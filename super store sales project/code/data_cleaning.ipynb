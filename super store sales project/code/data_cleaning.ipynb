{
 "cells": [
  {
   "cell_type": "code",
   "execution_count": 101,
   "metadata": {},
   "outputs": [],
   "source": [
    "import numpy as np\n",
    "import pandas as pd"
   ]
  },
  {
   "cell_type": "code",
   "execution_count": 102,
   "metadata": {},
   "outputs": [
    {
     "data": {
      "text/html": [
       "<div>\n",
       "<style scoped>\n",
       "    .dataframe tbody tr th:only-of-type {\n",
       "        vertical-align: middle;\n",
       "    }\n",
       "\n",
       "    .dataframe tbody tr th {\n",
       "        vertical-align: top;\n",
       "    }\n",
       "\n",
       "    .dataframe thead th {\n",
       "        text-align: right;\n",
       "    }\n",
       "</style>\n",
       "<table border=\"1\" class=\"dataframe\">\n",
       "  <thead>\n",
       "    <tr style=\"text-align: right;\">\n",
       "      <th></th>\n",
       "      <th>Row ID</th>\n",
       "      <th>Order ID</th>\n",
       "      <th>Order Date</th>\n",
       "      <th>Ship Date</th>\n",
       "      <th>Ship Mode</th>\n",
       "      <th>Customer ID</th>\n",
       "      <th>Customer Name</th>\n",
       "      <th>Segment</th>\n",
       "      <th>Country</th>\n",
       "      <th>City</th>\n",
       "      <th>...</th>\n",
       "      <th>Postal Code</th>\n",
       "      <th>Region</th>\n",
       "      <th>Product ID</th>\n",
       "      <th>Category</th>\n",
       "      <th>Sub-Category</th>\n",
       "      <th>Product Name</th>\n",
       "      <th>Sales</th>\n",
       "      <th>Quantity</th>\n",
       "      <th>Discount</th>\n",
       "      <th>Profit</th>\n",
       "    </tr>\n",
       "  </thead>\n",
       "  <tbody>\n",
       "    <tr>\n",
       "      <th>0</th>\n",
       "      <td>1</td>\n",
       "      <td>CA-2013-152156</td>\n",
       "      <td>09-11-2013</td>\n",
       "      <td>12-11-2013</td>\n",
       "      <td>Second Class</td>\n",
       "      <td>CG-12520</td>\n",
       "      <td>Claire Gute</td>\n",
       "      <td>Consumer</td>\n",
       "      <td>United States</td>\n",
       "      <td>Henderson</td>\n",
       "      <td>...</td>\n",
       "      <td>42420</td>\n",
       "      <td>South</td>\n",
       "      <td>FUR-BO-10001798</td>\n",
       "      <td>Furniture</td>\n",
       "      <td>Bookcases</td>\n",
       "      <td>Bush Somerset Collection Bookcase</td>\n",
       "      <td>261.9600</td>\n",
       "      <td>2</td>\n",
       "      <td>0.00</td>\n",
       "      <td>41.9136</td>\n",
       "    </tr>\n",
       "    <tr>\n",
       "      <th>1</th>\n",
       "      <td>2</td>\n",
       "      <td>CA-2013-152156</td>\n",
       "      <td>09-11-2013</td>\n",
       "      <td>12-11-2013</td>\n",
       "      <td>Second Class</td>\n",
       "      <td>CG-12520</td>\n",
       "      <td>Claire Gute</td>\n",
       "      <td>Consumer</td>\n",
       "      <td>United States</td>\n",
       "      <td>Henderson</td>\n",
       "      <td>...</td>\n",
       "      <td>42420</td>\n",
       "      <td>South</td>\n",
       "      <td>FUR-CH-10000454</td>\n",
       "      <td>Furniture</td>\n",
       "      <td>Chairs</td>\n",
       "      <td>Hon Deluxe Fabric Upholstered Stacking Chairs,...</td>\n",
       "      <td>731.9400</td>\n",
       "      <td>3</td>\n",
       "      <td>0.00</td>\n",
       "      <td>219.5820</td>\n",
       "    </tr>\n",
       "    <tr>\n",
       "      <th>2</th>\n",
       "      <td>3</td>\n",
       "      <td>CA-2013-138688</td>\n",
       "      <td>13-06-2013</td>\n",
       "      <td>17-06-2013</td>\n",
       "      <td>Second Class</td>\n",
       "      <td>DV-13045</td>\n",
       "      <td>Darrin Van Huff</td>\n",
       "      <td>Corporate</td>\n",
       "      <td>United States</td>\n",
       "      <td>Los Angeles</td>\n",
       "      <td>...</td>\n",
       "      <td>90036</td>\n",
       "      <td>West</td>\n",
       "      <td>OFF-LA-10000240</td>\n",
       "      <td>Office Supplies</td>\n",
       "      <td>Labels</td>\n",
       "      <td>Self-Adhesive Address Labels for Typewriters b...</td>\n",
       "      <td>14.6200</td>\n",
       "      <td>2</td>\n",
       "      <td>0.00</td>\n",
       "      <td>6.8714</td>\n",
       "    </tr>\n",
       "    <tr>\n",
       "      <th>3</th>\n",
       "      <td>4</td>\n",
       "      <td>US-2012-108966</td>\n",
       "      <td>11-10-2012</td>\n",
       "      <td>18-10-2012</td>\n",
       "      <td>Standard Class</td>\n",
       "      <td>SO-20335</td>\n",
       "      <td>Sean O'Donnell</td>\n",
       "      <td>Consumer</td>\n",
       "      <td>United States</td>\n",
       "      <td>Fort Lauderdale</td>\n",
       "      <td>...</td>\n",
       "      <td>33311</td>\n",
       "      <td>South</td>\n",
       "      <td>FUR-TA-10000577</td>\n",
       "      <td>Furniture</td>\n",
       "      <td>Tables</td>\n",
       "      <td>Bretford CR4500 Series Slim Rectangular Table</td>\n",
       "      <td>957.5775</td>\n",
       "      <td>5</td>\n",
       "      <td>0.45</td>\n",
       "      <td>-383.0310</td>\n",
       "    </tr>\n",
       "    <tr>\n",
       "      <th>4</th>\n",
       "      <td>5</td>\n",
       "      <td>US-2012-108966</td>\n",
       "      <td>11-10-2012</td>\n",
       "      <td>18-10-2012</td>\n",
       "      <td>Standard Class</td>\n",
       "      <td>SO-20335</td>\n",
       "      <td>Sean O'Donnell</td>\n",
       "      <td>Consumer</td>\n",
       "      <td>United States</td>\n",
       "      <td>Fort Lauderdale</td>\n",
       "      <td>...</td>\n",
       "      <td>33311</td>\n",
       "      <td>South</td>\n",
       "      <td>OFF-ST-10000760</td>\n",
       "      <td>Office Supplies</td>\n",
       "      <td>Storage</td>\n",
       "      <td>Eldon Fold 'N Roll Cart System</td>\n",
       "      <td>22.3680</td>\n",
       "      <td>2</td>\n",
       "      <td>0.20</td>\n",
       "      <td>2.5164</td>\n",
       "    </tr>\n",
       "  </tbody>\n",
       "</table>\n",
       "<p>5 rows × 21 columns</p>\n",
       "</div>"
      ],
      "text/plain": [
       "   Row ID        Order ID  Order Date   Ship Date       Ship Mode Customer ID  \\\n",
       "0       1  CA-2013-152156  09-11-2013  12-11-2013    Second Class    CG-12520   \n",
       "1       2  CA-2013-152156  09-11-2013  12-11-2013    Second Class    CG-12520   \n",
       "2       3  CA-2013-138688  13-06-2013  17-06-2013    Second Class    DV-13045   \n",
       "3       4  US-2012-108966  11-10-2012  18-10-2012  Standard Class    SO-20335   \n",
       "4       5  US-2012-108966  11-10-2012  18-10-2012  Standard Class    SO-20335   \n",
       "\n",
       "     Customer Name    Segment        Country             City  ...  \\\n",
       "0      Claire Gute   Consumer  United States        Henderson  ...   \n",
       "1      Claire Gute   Consumer  United States        Henderson  ...   \n",
       "2  Darrin Van Huff  Corporate  United States      Los Angeles  ...   \n",
       "3   Sean O'Donnell   Consumer  United States  Fort Lauderdale  ...   \n",
       "4   Sean O'Donnell   Consumer  United States  Fort Lauderdale  ...   \n",
       "\n",
       "  Postal Code  Region       Product ID         Category Sub-Category  \\\n",
       "0       42420   South  FUR-BO-10001798        Furniture    Bookcases   \n",
       "1       42420   South  FUR-CH-10000454        Furniture       Chairs   \n",
       "2       90036    West  OFF-LA-10000240  Office Supplies       Labels   \n",
       "3       33311   South  FUR-TA-10000577        Furniture       Tables   \n",
       "4       33311   South  OFF-ST-10000760  Office Supplies      Storage   \n",
       "\n",
       "                                        Product Name     Sales  Quantity  \\\n",
       "0                  Bush Somerset Collection Bookcase  261.9600         2   \n",
       "1  Hon Deluxe Fabric Upholstered Stacking Chairs,...  731.9400         3   \n",
       "2  Self-Adhesive Address Labels for Typewriters b...   14.6200         2   \n",
       "3      Bretford CR4500 Series Slim Rectangular Table  957.5775         5   \n",
       "4                     Eldon Fold 'N Roll Cart System   22.3680         2   \n",
       "\n",
       "   Discount    Profit  \n",
       "0      0.00   41.9136  \n",
       "1      0.00  219.5820  \n",
       "2      0.00    6.8714  \n",
       "3      0.45 -383.0310  \n",
       "4      0.20    2.5164  \n",
       "\n",
       "[5 rows x 21 columns]"
      ]
     },
     "execution_count": 102,
     "metadata": {},
     "output_type": "execute_result"
    }
   ],
   "source": [
    "df = pd.read_csv('../data/Superstore.csv' , encoding= 'unicode_escape' )\n",
    "df.head()"
   ]
  },
  {
   "cell_type": "code",
   "execution_count": 103,
   "metadata": {},
   "outputs": [],
   "source": [
    "df1 = df.copy()"
   ]
  },
  {
   "cell_type": "code",
   "execution_count": 104,
   "metadata": {},
   "outputs": [
    {
     "name": "stdout",
     "output_type": "stream",
     "text": [
      "<class 'pandas.core.frame.DataFrame'>\n",
      "RangeIndex: 9994 entries, 0 to 9993\n",
      "Data columns (total 21 columns):\n",
      " #   Column         Non-Null Count  Dtype  \n",
      "---  ------         --------------  -----  \n",
      " 0   Row ID         9994 non-null   int64  \n",
      " 1   Order ID       9994 non-null   object \n",
      " 2   Order Date     9994 non-null   object \n",
      " 3   Ship Date      9994 non-null   object \n",
      " 4   Ship Mode      9994 non-null   object \n",
      " 5   Customer ID    9994 non-null   object \n",
      " 6   Customer Name  9994 non-null   object \n",
      " 7   Segment        9994 non-null   object \n",
      " 8   Country        9994 non-null   object \n",
      " 9   City           9994 non-null   object \n",
      " 10  State          9994 non-null   object \n",
      " 11  Postal Code    9994 non-null   int64  \n",
      " 12  Region         9994 non-null   object \n",
      " 13  Product ID     9994 non-null   object \n",
      " 14  Category       9994 non-null   object \n",
      " 15  Sub-Category   9994 non-null   object \n",
      " 16  Product Name   9994 non-null   object \n",
      " 17  Sales          9994 non-null   float64\n",
      " 18  Quantity       9994 non-null   int64  \n",
      " 19  Discount       9994 non-null   float64\n",
      " 20  Profit         9994 non-null   float64\n",
      "dtypes: float64(3), int64(3), object(15)\n",
      "memory usage: 1.6+ MB\n"
     ]
    }
   ],
   "source": [
    "df1.info()"
   ]
  },
  {
   "cell_type": "markdown",
   "metadata": {},
   "source": [
    "### Droping Unnecessary Columns"
   ]
  },
  {
   "cell_type": "code",
   "execution_count": 105,
   "metadata": {},
   "outputs": [
    {
     "data": {
      "text/plain": [
       "Index(['Row ID', 'Order ID', 'Order Date', 'Ship Date', 'Ship Mode',\n",
       "       'Customer ID', 'Customer Name', 'Segment', 'Country', 'City', 'State',\n",
       "       'Postal Code', 'Region', 'Product ID', 'Category', 'Sub-Category',\n",
       "       'Product Name', 'Sales', 'Quantity', 'Discount', 'Profit'],\n",
       "      dtype='object')"
      ]
     },
     "execution_count": 105,
     "metadata": {},
     "output_type": "execute_result"
    }
   ],
   "source": [
    "df1.columns"
   ]
  },
  {
   "cell_type": "code",
   "execution_count": 106,
   "metadata": {},
   "outputs": [],
   "source": [
    "df1 = df1.drop(columns= [ 'Row ID' , 'Order ID', 'Customer ID', 'Postal Code' , 'Product ID' ,  'Country' ])"
   ]
  },
  {
   "cell_type": "code",
   "execution_count": 107,
   "metadata": {},
   "outputs": [
    {
     "name": "stdout",
     "output_type": "stream",
     "text": [
      "<class 'pandas.core.frame.DataFrame'>\n",
      "RangeIndex: 9994 entries, 0 to 9993\n",
      "Data columns (total 15 columns):\n",
      " #   Column         Non-Null Count  Dtype  \n",
      "---  ------         --------------  -----  \n",
      " 0   Order Date     9994 non-null   object \n",
      " 1   Ship Date      9994 non-null   object \n",
      " 2   Ship Mode      9994 non-null   object \n",
      " 3   Customer Name  9994 non-null   object \n",
      " 4   Segment        9994 non-null   object \n",
      " 5   City           9994 non-null   object \n",
      " 6   State          9994 non-null   object \n",
      " 7   Region         9994 non-null   object \n",
      " 8   Category       9994 non-null   object \n",
      " 9   Sub-Category   9994 non-null   object \n",
      " 10  Product Name   9994 non-null   object \n",
      " 11  Sales          9994 non-null   float64\n",
      " 12  Quantity       9994 non-null   int64  \n",
      " 13  Discount       9994 non-null   float64\n",
      " 14  Profit         9994 non-null   float64\n",
      "dtypes: float64(3), int64(1), object(11)\n",
      "memory usage: 1.1+ MB\n"
     ]
    }
   ],
   "source": [
    "df1.info()"
   ]
  },
  {
   "cell_type": "code",
   "execution_count": 108,
   "metadata": {},
   "outputs": [
    {
     "data": {
      "text/html": [
       "<div>\n",
       "<style scoped>\n",
       "    .dataframe tbody tr th:only-of-type {\n",
       "        vertical-align: middle;\n",
       "    }\n",
       "\n",
       "    .dataframe tbody tr th {\n",
       "        vertical-align: top;\n",
       "    }\n",
       "\n",
       "    .dataframe thead th {\n",
       "        text-align: right;\n",
       "    }\n",
       "</style>\n",
       "<table border=\"1\" class=\"dataframe\">\n",
       "  <thead>\n",
       "    <tr style=\"text-align: right;\">\n",
       "      <th></th>\n",
       "      <th>Order Date</th>\n",
       "      <th>Ship Date</th>\n",
       "    </tr>\n",
       "  </thead>\n",
       "  <tbody>\n",
       "    <tr>\n",
       "      <th>0</th>\n",
       "      <td>09-11-2013</td>\n",
       "      <td>12-11-2013</td>\n",
       "    </tr>\n",
       "    <tr>\n",
       "      <th>1</th>\n",
       "      <td>09-11-2013</td>\n",
       "      <td>12-11-2013</td>\n",
       "    </tr>\n",
       "    <tr>\n",
       "      <th>2</th>\n",
       "      <td>13-06-2013</td>\n",
       "      <td>17-06-2013</td>\n",
       "    </tr>\n",
       "    <tr>\n",
       "      <th>3</th>\n",
       "      <td>11-10-2012</td>\n",
       "      <td>18-10-2012</td>\n",
       "    </tr>\n",
       "    <tr>\n",
       "      <th>4</th>\n",
       "      <td>11-10-2012</td>\n",
       "      <td>18-10-2012</td>\n",
       "    </tr>\n",
       "    <tr>\n",
       "      <th>...</th>\n",
       "      <td>...</td>\n",
       "      <td>...</td>\n",
       "    </tr>\n",
       "    <tr>\n",
       "      <th>9989</th>\n",
       "      <td>22-01-2011</td>\n",
       "      <td>24-01-2011</td>\n",
       "    </tr>\n",
       "    <tr>\n",
       "      <th>9990</th>\n",
       "      <td>27-02-2014</td>\n",
       "      <td>04-03-2014</td>\n",
       "    </tr>\n",
       "    <tr>\n",
       "      <th>9991</th>\n",
       "      <td>27-02-2014</td>\n",
       "      <td>04-03-2014</td>\n",
       "    </tr>\n",
       "    <tr>\n",
       "      <th>9992</th>\n",
       "      <td>27-02-2014</td>\n",
       "      <td>04-03-2014</td>\n",
       "    </tr>\n",
       "    <tr>\n",
       "      <th>9993</th>\n",
       "      <td>05-05-2014</td>\n",
       "      <td>10-05-2014</td>\n",
       "    </tr>\n",
       "  </tbody>\n",
       "</table>\n",
       "<p>9994 rows × 2 columns</p>\n",
       "</div>"
      ],
      "text/plain": [
       "      Order Date   Ship Date\n",
       "0     09-11-2013  12-11-2013\n",
       "1     09-11-2013  12-11-2013\n",
       "2     13-06-2013  17-06-2013\n",
       "3     11-10-2012  18-10-2012\n",
       "4     11-10-2012  18-10-2012\n",
       "...          ...         ...\n",
       "9989  22-01-2011  24-01-2011\n",
       "9990  27-02-2014  04-03-2014\n",
       "9991  27-02-2014  04-03-2014\n",
       "9992  27-02-2014  04-03-2014\n",
       "9993  05-05-2014  10-05-2014\n",
       "\n",
       "[9994 rows x 2 columns]"
      ]
     },
     "execution_count": 108,
     "metadata": {},
     "output_type": "execute_result"
    }
   ],
   "source": [
    "df1[['Order Date' , 'Ship Date']]"
   ]
  },
  {
   "cell_type": "markdown",
   "metadata": {},
   "source": [
    "### Extracting order month from order date"
   ]
  },
  {
   "cell_type": "code",
   "execution_count": 109,
   "metadata": {},
   "outputs": [
    {
     "data": {
      "text/plain": [
       "0       [09, 11, 2013]\n",
       "1       [09, 11, 2013]\n",
       "2       [13, 06, 2013]\n",
       "3       [11, 10, 2012]\n",
       "4       [11, 10, 2012]\n",
       "             ...      \n",
       "9989    [22, 01, 2011]\n",
       "9990    [27, 02, 2014]\n",
       "9991    [27, 02, 2014]\n",
       "9992    [27, 02, 2014]\n",
       "9993    [05, 05, 2014]\n",
       "Name: Order Date, Length: 9994, dtype: object"
      ]
     },
     "execution_count": 109,
     "metadata": {},
     "output_type": "execute_result"
    }
   ],
   "source": [
    "df1['Order Date'].str.split('-')"
   ]
  },
  {
   "cell_type": "code",
   "execution_count": 110,
   "metadata": {},
   "outputs": [],
   "source": [
    "df1['order_month'] = df1['Order Date'].str.split('-').str.get(1)"
   ]
  },
  {
   "cell_type": "markdown",
   "metadata": {},
   "source": [
    "### Extracting order year from order date"
   ]
  },
  {
   "cell_type": "code",
   "execution_count": 111,
   "metadata": {},
   "outputs": [
    {
     "data": {
      "text/plain": [
       "0       [09, 11, 2013]\n",
       "1       [09, 11, 2013]\n",
       "2       [13, 06, 2013]\n",
       "3       [11, 10, 2012]\n",
       "4       [11, 10, 2012]\n",
       "             ...      \n",
       "9989    [22, 01, 2011]\n",
       "9990    [27, 02, 2014]\n",
       "9991    [27, 02, 2014]\n",
       "9992    [27, 02, 2014]\n",
       "9993    [05, 05, 2014]\n",
       "Name: Order Date, Length: 9994, dtype: object"
      ]
     },
     "execution_count": 111,
     "metadata": {},
     "output_type": "execute_result"
    }
   ],
   "source": [
    "df1['Order Date'].str.split('-')"
   ]
  },
  {
   "cell_type": "code",
   "execution_count": 112,
   "metadata": {},
   "outputs": [],
   "source": [
    "df1['order_year'] = df1['Order Date'].str.split('-').str.get(2)"
   ]
  },
  {
   "cell_type": "code",
   "execution_count": 113,
   "metadata": {},
   "outputs": [
    {
     "name": "stdout",
     "output_type": "stream",
     "text": [
      "<class 'pandas.core.frame.DataFrame'>\n",
      "RangeIndex: 9994 entries, 0 to 9993\n",
      "Data columns (total 17 columns):\n",
      " #   Column         Non-Null Count  Dtype  \n",
      "---  ------         --------------  -----  \n",
      " 0   Order Date     9994 non-null   object \n",
      " 1   Ship Date      9994 non-null   object \n",
      " 2   Ship Mode      9994 non-null   object \n",
      " 3   Customer Name  9994 non-null   object \n",
      " 4   Segment        9994 non-null   object \n",
      " 5   City           9994 non-null   object \n",
      " 6   State          9994 non-null   object \n",
      " 7   Region         9994 non-null   object \n",
      " 8   Category       9994 non-null   object \n",
      " 9   Sub-Category   9994 non-null   object \n",
      " 10  Product Name   9994 non-null   object \n",
      " 11  Sales          9994 non-null   float64\n",
      " 12  Quantity       9994 non-null   int64  \n",
      " 13  Discount       9994 non-null   float64\n",
      " 14  Profit         9994 non-null   float64\n",
      " 15  order_month    9994 non-null   object \n",
      " 16  order_year     9994 non-null   object \n",
      "dtypes: float64(3), int64(1), object(13)\n",
      "memory usage: 1.3+ MB\n"
     ]
    }
   ],
   "source": [
    "df1.info()"
   ]
  },
  {
   "cell_type": "markdown",
   "metadata": {},
   "source": [
    "### Extracting shift month from shift date"
   ]
  },
  {
   "cell_type": "code",
   "execution_count": 114,
   "metadata": {},
   "outputs": [
    {
     "data": {
      "text/plain": [
       "0       [12, 11, 2013]\n",
       "1       [12, 11, 2013]\n",
       "2       [17, 06, 2013]\n",
       "3       [18, 10, 2012]\n",
       "4       [18, 10, 2012]\n",
       "             ...      \n",
       "9989    [24, 01, 2011]\n",
       "9990    [04, 03, 2014]\n",
       "9991    [04, 03, 2014]\n",
       "9992    [04, 03, 2014]\n",
       "9993    [10, 05, 2014]\n",
       "Name: Ship Date, Length: 9994, dtype: object"
      ]
     },
     "execution_count": 114,
     "metadata": {},
     "output_type": "execute_result"
    }
   ],
   "source": [
    "df1['Ship Date'].str.split('-')"
   ]
  },
  {
   "cell_type": "code",
   "execution_count": 115,
   "metadata": {},
   "outputs": [
    {
     "data": {
      "text/plain": [
       "0       11\n",
       "1       11\n",
       "2       06\n",
       "3       10\n",
       "4       10\n",
       "        ..\n",
       "9989    01\n",
       "9990    03\n",
       "9991    03\n",
       "9992    03\n",
       "9993    05\n",
       "Name: Ship Date, Length: 9994, dtype: object"
      ]
     },
     "execution_count": 115,
     "metadata": {},
     "output_type": "execute_result"
    }
   ],
   "source": [
    "df1['Ship Date'].str.split('-').str.get(1)"
   ]
  },
  {
   "cell_type": "code",
   "execution_count": 116,
   "metadata": {},
   "outputs": [],
   "source": [
    "df1['ship_month'] = df1['Ship Date'].str.split('-').str.get(1)"
   ]
  },
  {
   "cell_type": "code",
   "execution_count": 117,
   "metadata": {},
   "outputs": [
    {
     "data": {
      "text/plain": [
       "0       11\n",
       "1       11\n",
       "2       06\n",
       "3       10\n",
       "4       10\n",
       "        ..\n",
       "9989    01\n",
       "9990    03\n",
       "9991    03\n",
       "9992    03\n",
       "9993    05\n",
       "Name: ship_month, Length: 9994, dtype: object"
      ]
     },
     "execution_count": 117,
     "metadata": {},
     "output_type": "execute_result"
    }
   ],
   "source": [
    "df1['ship_month']"
   ]
  },
  {
   "cell_type": "markdown",
   "metadata": {},
   "source": [
    "### Extracting shift year from shift date"
   ]
  },
  {
   "cell_type": "code",
   "execution_count": 118,
   "metadata": {},
   "outputs": [
    {
     "data": {
      "text/plain": [
       "0       [12, 11, 2013]\n",
       "1       [12, 11, 2013]\n",
       "2       [17, 06, 2013]\n",
       "3       [18, 10, 2012]\n",
       "4       [18, 10, 2012]\n",
       "             ...      \n",
       "9989    [24, 01, 2011]\n",
       "9990    [04, 03, 2014]\n",
       "9991    [04, 03, 2014]\n",
       "9992    [04, 03, 2014]\n",
       "9993    [10, 05, 2014]\n",
       "Name: Ship Date, Length: 9994, dtype: object"
      ]
     },
     "execution_count": 118,
     "metadata": {},
     "output_type": "execute_result"
    }
   ],
   "source": [
    "df1['Ship Date'].str.split('-')"
   ]
  },
  {
   "cell_type": "code",
   "execution_count": 119,
   "metadata": {},
   "outputs": [
    {
     "data": {
      "text/plain": [
       "0       2013\n",
       "1       2013\n",
       "2       2013\n",
       "3       2012\n",
       "4       2012\n",
       "        ... \n",
       "9989    2011\n",
       "9990    2014\n",
       "9991    2014\n",
       "9992    2014\n",
       "9993    2014\n",
       "Name: Ship Date, Length: 9994, dtype: object"
      ]
     },
     "execution_count": 119,
     "metadata": {},
     "output_type": "execute_result"
    }
   ],
   "source": [
    "df1['Ship Date'].str.split('-').str.get(2)"
   ]
  },
  {
   "cell_type": "code",
   "execution_count": 120,
   "metadata": {},
   "outputs": [],
   "source": [
    "df1['ship_year'] = df1['Ship Date'].str.split('-').str.get(2)"
   ]
  },
  {
   "cell_type": "code",
   "execution_count": 121,
   "metadata": {},
   "outputs": [
    {
     "data": {
      "text/plain": [
       "0       2013\n",
       "1       2013\n",
       "2       2013\n",
       "3       2012\n",
       "4       2012\n",
       "        ... \n",
       "9989    2011\n",
       "9990    2014\n",
       "9991    2014\n",
       "9992    2014\n",
       "9993    2014\n",
       "Name: ship_year, Length: 9994, dtype: object"
      ]
     },
     "execution_count": 121,
     "metadata": {},
     "output_type": "execute_result"
    }
   ],
   "source": [
    "df1['ship_year']"
   ]
  },
  {
   "cell_type": "code",
   "execution_count": 122,
   "metadata": {},
   "outputs": [
    {
     "data": {
      "text/html": [
       "<div>\n",
       "<style scoped>\n",
       "    .dataframe tbody tr th:only-of-type {\n",
       "        vertical-align: middle;\n",
       "    }\n",
       "\n",
       "    .dataframe tbody tr th {\n",
       "        vertical-align: top;\n",
       "    }\n",
       "\n",
       "    .dataframe thead th {\n",
       "        text-align: right;\n",
       "    }\n",
       "</style>\n",
       "<table border=\"1\" class=\"dataframe\">\n",
       "  <thead>\n",
       "    <tr style=\"text-align: right;\">\n",
       "      <th></th>\n",
       "      <th>Order Date</th>\n",
       "      <th>Ship Date</th>\n",
       "      <th>Ship Mode</th>\n",
       "      <th>Customer Name</th>\n",
       "      <th>Segment</th>\n",
       "      <th>City</th>\n",
       "      <th>State</th>\n",
       "      <th>Region</th>\n",
       "      <th>Category</th>\n",
       "      <th>Sub-Category</th>\n",
       "      <th>Product Name</th>\n",
       "      <th>Sales</th>\n",
       "      <th>Quantity</th>\n",
       "      <th>Discount</th>\n",
       "      <th>Profit</th>\n",
       "      <th>order_month</th>\n",
       "      <th>order_year</th>\n",
       "      <th>ship_month</th>\n",
       "      <th>ship_year</th>\n",
       "    </tr>\n",
       "  </thead>\n",
       "  <tbody>\n",
       "    <tr>\n",
       "      <th>0</th>\n",
       "      <td>09-11-2013</td>\n",
       "      <td>12-11-2013</td>\n",
       "      <td>Second Class</td>\n",
       "      <td>Claire Gute</td>\n",
       "      <td>Consumer</td>\n",
       "      <td>Henderson</td>\n",
       "      <td>Kentucky</td>\n",
       "      <td>South</td>\n",
       "      <td>Furniture</td>\n",
       "      <td>Bookcases</td>\n",
       "      <td>Bush Somerset Collection Bookcase</td>\n",
       "      <td>261.9600</td>\n",
       "      <td>2</td>\n",
       "      <td>0.00</td>\n",
       "      <td>41.9136</td>\n",
       "      <td>11</td>\n",
       "      <td>2013</td>\n",
       "      <td>11</td>\n",
       "      <td>2013</td>\n",
       "    </tr>\n",
       "    <tr>\n",
       "      <th>1</th>\n",
       "      <td>09-11-2013</td>\n",
       "      <td>12-11-2013</td>\n",
       "      <td>Second Class</td>\n",
       "      <td>Claire Gute</td>\n",
       "      <td>Consumer</td>\n",
       "      <td>Henderson</td>\n",
       "      <td>Kentucky</td>\n",
       "      <td>South</td>\n",
       "      <td>Furniture</td>\n",
       "      <td>Chairs</td>\n",
       "      <td>Hon Deluxe Fabric Upholstered Stacking Chairs,...</td>\n",
       "      <td>731.9400</td>\n",
       "      <td>3</td>\n",
       "      <td>0.00</td>\n",
       "      <td>219.5820</td>\n",
       "      <td>11</td>\n",
       "      <td>2013</td>\n",
       "      <td>11</td>\n",
       "      <td>2013</td>\n",
       "    </tr>\n",
       "    <tr>\n",
       "      <th>2</th>\n",
       "      <td>13-06-2013</td>\n",
       "      <td>17-06-2013</td>\n",
       "      <td>Second Class</td>\n",
       "      <td>Darrin Van Huff</td>\n",
       "      <td>Corporate</td>\n",
       "      <td>Los Angeles</td>\n",
       "      <td>California</td>\n",
       "      <td>West</td>\n",
       "      <td>Office Supplies</td>\n",
       "      <td>Labels</td>\n",
       "      <td>Self-Adhesive Address Labels for Typewriters b...</td>\n",
       "      <td>14.6200</td>\n",
       "      <td>2</td>\n",
       "      <td>0.00</td>\n",
       "      <td>6.8714</td>\n",
       "      <td>06</td>\n",
       "      <td>2013</td>\n",
       "      <td>06</td>\n",
       "      <td>2013</td>\n",
       "    </tr>\n",
       "    <tr>\n",
       "      <th>3</th>\n",
       "      <td>11-10-2012</td>\n",
       "      <td>18-10-2012</td>\n",
       "      <td>Standard Class</td>\n",
       "      <td>Sean O'Donnell</td>\n",
       "      <td>Consumer</td>\n",
       "      <td>Fort Lauderdale</td>\n",
       "      <td>Florida</td>\n",
       "      <td>South</td>\n",
       "      <td>Furniture</td>\n",
       "      <td>Tables</td>\n",
       "      <td>Bretford CR4500 Series Slim Rectangular Table</td>\n",
       "      <td>957.5775</td>\n",
       "      <td>5</td>\n",
       "      <td>0.45</td>\n",
       "      <td>-383.0310</td>\n",
       "      <td>10</td>\n",
       "      <td>2012</td>\n",
       "      <td>10</td>\n",
       "      <td>2012</td>\n",
       "    </tr>\n",
       "    <tr>\n",
       "      <th>4</th>\n",
       "      <td>11-10-2012</td>\n",
       "      <td>18-10-2012</td>\n",
       "      <td>Standard Class</td>\n",
       "      <td>Sean O'Donnell</td>\n",
       "      <td>Consumer</td>\n",
       "      <td>Fort Lauderdale</td>\n",
       "      <td>Florida</td>\n",
       "      <td>South</td>\n",
       "      <td>Office Supplies</td>\n",
       "      <td>Storage</td>\n",
       "      <td>Eldon Fold 'N Roll Cart System</td>\n",
       "      <td>22.3680</td>\n",
       "      <td>2</td>\n",
       "      <td>0.20</td>\n",
       "      <td>2.5164</td>\n",
       "      <td>10</td>\n",
       "      <td>2012</td>\n",
       "      <td>10</td>\n",
       "      <td>2012</td>\n",
       "    </tr>\n",
       "  </tbody>\n",
       "</table>\n",
       "</div>"
      ],
      "text/plain": [
       "   Order Date   Ship Date       Ship Mode    Customer Name    Segment  \\\n",
       "0  09-11-2013  12-11-2013    Second Class      Claire Gute   Consumer   \n",
       "1  09-11-2013  12-11-2013    Second Class      Claire Gute   Consumer   \n",
       "2  13-06-2013  17-06-2013    Second Class  Darrin Van Huff  Corporate   \n",
       "3  11-10-2012  18-10-2012  Standard Class   Sean O'Donnell   Consumer   \n",
       "4  11-10-2012  18-10-2012  Standard Class   Sean O'Donnell   Consumer   \n",
       "\n",
       "              City       State Region         Category Sub-Category  \\\n",
       "0        Henderson    Kentucky  South        Furniture    Bookcases   \n",
       "1        Henderson    Kentucky  South        Furniture       Chairs   \n",
       "2      Los Angeles  California   West  Office Supplies       Labels   \n",
       "3  Fort Lauderdale     Florida  South        Furniture       Tables   \n",
       "4  Fort Lauderdale     Florida  South  Office Supplies      Storage   \n",
       "\n",
       "                                        Product Name     Sales  Quantity  \\\n",
       "0                  Bush Somerset Collection Bookcase  261.9600         2   \n",
       "1  Hon Deluxe Fabric Upholstered Stacking Chairs,...  731.9400         3   \n",
       "2  Self-Adhesive Address Labels for Typewriters b...   14.6200         2   \n",
       "3      Bretford CR4500 Series Slim Rectangular Table  957.5775         5   \n",
       "4                     Eldon Fold 'N Roll Cart System   22.3680         2   \n",
       "\n",
       "   Discount    Profit order_month order_year ship_month ship_year  \n",
       "0      0.00   41.9136          11       2013         11      2013  \n",
       "1      0.00  219.5820          11       2013         11      2013  \n",
       "2      0.00    6.8714          06       2013         06      2013  \n",
       "3      0.45 -383.0310          10       2012         10      2012  \n",
       "4      0.20    2.5164          10       2012         10      2012  "
      ]
     },
     "execution_count": 122,
     "metadata": {},
     "output_type": "execute_result"
    }
   ],
   "source": [
    "df1.head()"
   ]
  },
  {
   "cell_type": "markdown",
   "metadata": {},
   "source": [
    "### Adding Cost column"
   ]
  },
  {
   "cell_type": "code",
   "execution_count": 123,
   "metadata": {},
   "outputs": [
    {
     "data": {
      "text/plain": [
       "0        220.05\n",
       "1        512.36\n",
       "2          7.75\n",
       "3       1340.61\n",
       "4         19.85\n",
       "         ...   \n",
       "9989      21.15\n",
       "9990      76.33\n",
       "9991     239.18\n",
       "9992      16.28\n",
       "9993     170.21\n",
       "Length: 9994, dtype: float64"
      ]
     },
     "execution_count": 123,
     "metadata": {},
     "output_type": "execute_result"
    }
   ],
   "source": [
    "round(df1['Sales'] - df1['Profit'] , 2)"
   ]
  },
  {
   "cell_type": "code",
   "execution_count": 124,
   "metadata": {},
   "outputs": [],
   "source": [
    "df1['cost'] = round(df1['Sales'] - df1['Profit'] , 2)"
   ]
  },
  {
   "cell_type": "markdown",
   "metadata": {},
   "source": [
    "### Adding Discount Amount column"
   ]
  },
  {
   "cell_type": "code",
   "execution_count": 125,
   "metadata": {},
   "outputs": [
    {
     "data": {
      "text/plain": [
       "0         0.00\n",
       "1         0.00\n",
       "2         0.00\n",
       "3       430.91\n",
       "4         4.47\n",
       "         ...  \n",
       "9989      5.05\n",
       "9990      0.00\n",
       "9991     51.72\n",
       "9992      0.00\n",
       "9993      0.00\n",
       "Length: 9994, dtype: float64"
      ]
     },
     "execution_count": 125,
     "metadata": {},
     "output_type": "execute_result"
    }
   ],
   "source": [
    "round(df1['Sales'] * df1['Discount'] , 2)"
   ]
  },
  {
   "cell_type": "code",
   "execution_count": 126,
   "metadata": {},
   "outputs": [],
   "source": [
    "df1['discount_amount'] = round(df1['Sales'] * df1['Discount'] , 2)"
   ]
  },
  {
   "cell_type": "markdown",
   "metadata": {},
   "source": [
    "### Changing Column Data Types"
   ]
  },
  {
   "cell_type": "code",
   "execution_count": 127,
   "metadata": {},
   "outputs": [
    {
     "name": "stdout",
     "output_type": "stream",
     "text": [
      "<class 'pandas.core.frame.DataFrame'>\n",
      "RangeIndex: 9994 entries, 0 to 9993\n",
      "Data columns (total 21 columns):\n",
      " #   Column           Non-Null Count  Dtype  \n",
      "---  ------           --------------  -----  \n",
      " 0   Order Date       9994 non-null   object \n",
      " 1   Ship Date        9994 non-null   object \n",
      " 2   Ship Mode        9994 non-null   object \n",
      " 3   Customer Name    9994 non-null   object \n",
      " 4   Segment          9994 non-null   object \n",
      " 5   City             9994 non-null   object \n",
      " 6   State            9994 non-null   object \n",
      " 7   Region           9994 non-null   object \n",
      " 8   Category         9994 non-null   object \n",
      " 9   Sub-Category     9994 non-null   object \n",
      " 10  Product Name     9994 non-null   object \n",
      " 11  Sales            9994 non-null   float64\n",
      " 12  Quantity         9994 non-null   int64  \n",
      " 13  Discount         9994 non-null   float64\n",
      " 14  Profit           9994 non-null   float64\n",
      " 15  order_month      9994 non-null   object \n",
      " 16  order_year       9994 non-null   object \n",
      " 17  ship_month       9994 non-null   object \n",
      " 18  ship_year        9994 non-null   object \n",
      " 19  cost             9994 non-null   float64\n",
      " 20  discount_amount  9994 non-null   float64\n",
      "dtypes: float64(5), int64(1), object(15)\n",
      "memory usage: 1.6+ MB\n"
     ]
    }
   ],
   "source": [
    "df1.info()"
   ]
  },
  {
   "cell_type": "markdown",
   "metadata": {},
   "source": [
    "Order Date , Ship Date , order_month , order_year , ship_month , ship_year"
   ]
  },
  {
   "cell_type": "code",
   "execution_count": 128,
   "metadata": {},
   "outputs": [],
   "source": [
    "# df1.astype({ 'order_month' : 'int64' , 'order_year' : 'int64' , 'ship_month' : 'int64' , 'ship_year' : 'int64' })"
   ]
  },
  {
   "cell_type": "code",
   "execution_count": 129,
   "metadata": {},
   "outputs": [],
   "source": [
    "cols = ['order_month' , 'order_year' , 'ship_month' , 'ship_year']\n",
    "\n",
    "for col in cols:\n",
    "    df1[col] = df1[col].astype('int64')"
   ]
  },
  {
   "cell_type": "code",
   "execution_count": 130,
   "metadata": {},
   "outputs": [
    {
     "data": {
      "text/plain": [
       "0       09-11-2013\n",
       "1       09-11-2013\n",
       "2       13-06-2013\n",
       "3       11-10-2012\n",
       "4       11-10-2012\n",
       "           ...    \n",
       "9989    22-01-2011\n",
       "9990    27-02-2014\n",
       "9991    27-02-2014\n",
       "9992    27-02-2014\n",
       "9993    05-05-2014\n",
       "Name: Order Date, Length: 9994, dtype: object"
      ]
     },
     "execution_count": 130,
     "metadata": {},
     "output_type": "execute_result"
    }
   ],
   "source": [
    "df['Order Date']"
   ]
  },
  {
   "cell_type": "code",
   "execution_count": 131,
   "metadata": {},
   "outputs": [],
   "source": [
    "df1[['Order Date' , 'Ship Date']] = df1[['Order Date' , 'Ship Date']].apply(pd.to_datetime , format= 'mixed' , dayfirst= True)"
   ]
  },
  {
   "cell_type": "code",
   "execution_count": 132,
   "metadata": {},
   "outputs": [
    {
     "name": "stdout",
     "output_type": "stream",
     "text": [
      "<class 'pandas.core.frame.DataFrame'>\n",
      "RangeIndex: 9994 entries, 0 to 9993\n",
      "Data columns (total 21 columns):\n",
      " #   Column         Non-Null Count  Dtype  \n",
      "---  ------         --------------  -----  \n",
      " 0   Row ID         9994 non-null   int64  \n",
      " 1   Order ID       9994 non-null   object \n",
      " 2   Order Date     9994 non-null   object \n",
      " 3   Ship Date      9994 non-null   object \n",
      " 4   Ship Mode      9994 non-null   object \n",
      " 5   Customer ID    9994 non-null   object \n",
      " 6   Customer Name  9994 non-null   object \n",
      " 7   Segment        9994 non-null   object \n",
      " 8   Country        9994 non-null   object \n",
      " 9   City           9994 non-null   object \n",
      " 10  State          9994 non-null   object \n",
      " 11  Postal Code    9994 non-null   int64  \n",
      " 12  Region         9994 non-null   object \n",
      " 13  Product ID     9994 non-null   object \n",
      " 14  Category       9994 non-null   object \n",
      " 15  Sub-Category   9994 non-null   object \n",
      " 16  Product Name   9994 non-null   object \n",
      " 17  Sales          9994 non-null   float64\n",
      " 18  Quantity       9994 non-null   int64  \n",
      " 19  Discount       9994 non-null   float64\n",
      " 20  Profit         9994 non-null   float64\n",
      "dtypes: float64(3), int64(3), object(15)\n",
      "memory usage: 1.6+ MB\n"
     ]
    }
   ],
   "source": [
    "df.info()"
   ]
  },
  {
   "cell_type": "markdown",
   "metadata": {},
   "source": [
    "### Changing Column Names"
   ]
  },
  {
   "cell_type": "code",
   "execution_count": 133,
   "metadata": {},
   "outputs": [
    {
     "data": {
      "text/plain": [
       "Index(['Order Date', 'Ship Date', 'Ship Mode', 'Customer Name', 'Segment',\n",
       "       'City', 'State', 'Region', 'Category', 'Sub-Category', 'Product Name',\n",
       "       'Sales', 'Quantity', 'Discount', 'Profit', 'order_month', 'order_year',\n",
       "       'ship_month', 'ship_year', 'cost', 'discount_amount'],\n",
       "      dtype='object')"
      ]
     },
     "execution_count": 133,
     "metadata": {},
     "output_type": "execute_result"
    }
   ],
   "source": [
    "df1.columns"
   ]
  },
  {
   "cell_type": "code",
   "execution_count": 134,
   "metadata": {},
   "outputs": [],
   "source": [
    "df1 = df1.rename(columns= {\n",
    "    'Order Date' : 'order_date' ,\n",
    "    'Ship Date' : 'ship_date' ,\n",
    "    'Ship Mode' : 'ship_mode' ,\n",
    "    'Customer Name' : 'customer_name' ,\n",
    "    'Segment' : 'customer_segment' ,\n",
    "    'City' : 'city' ,\n",
    "    'State' : 'state' ,\n",
    "    'Region' : 'region' ,\n",
    "    'Category' : 'category' ,\n",
    "    'Sub-Category' : 'sub_category' ,\n",
    "    'Product Name' : 'product_name' ,\n",
    "    'Sales' : 'sales' ,\n",
    "    'Quantity' : 'quantity' ,\n",
    "    'Discount' : 'discount' ,\n",
    "    'Profit' : 'profit' \n",
    "})"
   ]
  },
  {
   "cell_type": "markdown",
   "metadata": {},
   "source": [
    "### Dropping Duplicate values"
   ]
  },
  {
   "cell_type": "code",
   "execution_count": 135,
   "metadata": {},
   "outputs": [
    {
     "data": {
      "text/plain": [
       "np.int64(1)"
      ]
     },
     "execution_count": 135,
     "metadata": {},
     "output_type": "execute_result"
    }
   ],
   "source": [
    "df1.duplicated().sum()"
   ]
  },
  {
   "cell_type": "code",
   "execution_count": 136,
   "metadata": {},
   "outputs": [
    {
     "data": {
      "text/html": [
       "<div>\n",
       "<style scoped>\n",
       "    .dataframe tbody tr th:only-of-type {\n",
       "        vertical-align: middle;\n",
       "    }\n",
       "\n",
       "    .dataframe tbody tr th {\n",
       "        vertical-align: top;\n",
       "    }\n",
       "\n",
       "    .dataframe thead th {\n",
       "        text-align: right;\n",
       "    }\n",
       "</style>\n",
       "<table border=\"1\" class=\"dataframe\">\n",
       "  <thead>\n",
       "    <tr style=\"text-align: right;\">\n",
       "      <th></th>\n",
       "      <th>order_date</th>\n",
       "      <th>ship_date</th>\n",
       "      <th>ship_mode</th>\n",
       "      <th>customer_name</th>\n",
       "      <th>customer_segment</th>\n",
       "      <th>city</th>\n",
       "      <th>state</th>\n",
       "      <th>region</th>\n",
       "      <th>category</th>\n",
       "      <th>sub_category</th>\n",
       "      <th>...</th>\n",
       "      <th>sales</th>\n",
       "      <th>quantity</th>\n",
       "      <th>discount</th>\n",
       "      <th>profit</th>\n",
       "      <th>order_month</th>\n",
       "      <th>order_year</th>\n",
       "      <th>ship_month</th>\n",
       "      <th>ship_year</th>\n",
       "      <th>cost</th>\n",
       "      <th>discount_amount</th>\n",
       "    </tr>\n",
       "  </thead>\n",
       "  <tbody>\n",
       "    <tr>\n",
       "      <th>3406</th>\n",
       "      <td>2011-04-23</td>\n",
       "      <td>2011-04-27</td>\n",
       "      <td>Standard Class</td>\n",
       "      <td>Laurel Beltran</td>\n",
       "      <td>Home Office</td>\n",
       "      <td>Columbus</td>\n",
       "      <td>Ohio</td>\n",
       "      <td>East</td>\n",
       "      <td>Furniture</td>\n",
       "      <td>Chairs</td>\n",
       "      <td>...</td>\n",
       "      <td>281.372</td>\n",
       "      <td>2</td>\n",
       "      <td>0.3</td>\n",
       "      <td>-12.0588</td>\n",
       "      <td>4</td>\n",
       "      <td>2011</td>\n",
       "      <td>4</td>\n",
       "      <td>2011</td>\n",
       "      <td>293.43</td>\n",
       "      <td>84.41</td>\n",
       "    </tr>\n",
       "  </tbody>\n",
       "</table>\n",
       "<p>1 rows × 21 columns</p>\n",
       "</div>"
      ],
      "text/plain": [
       "     order_date  ship_date       ship_mode   customer_name customer_segment  \\\n",
       "3406 2011-04-23 2011-04-27  Standard Class  Laurel Beltran      Home Office   \n",
       "\n",
       "          city state region   category sub_category  ...    sales  quantity  \\\n",
       "3406  Columbus  Ohio   East  Furniture       Chairs  ...  281.372         2   \n",
       "\n",
       "      discount   profit  order_month  order_year  ship_month  ship_year  \\\n",
       "3406       0.3 -12.0588            4        2011           4       2011   \n",
       "\n",
       "        cost  discount_amount  \n",
       "3406  293.43            84.41  \n",
       "\n",
       "[1 rows x 21 columns]"
      ]
     },
     "execution_count": 136,
     "metadata": {},
     "output_type": "execute_result"
    }
   ],
   "source": [
    "df1[df1.duplicated()]"
   ]
  },
  {
   "cell_type": "code",
   "execution_count": 137,
   "metadata": {},
   "outputs": [
    {
     "data": {
      "text/plain": [
       "3259    False\n",
       "3405    False\n",
       "3406     True\n",
       "3407    False\n",
       "3408    False\n",
       "4724    False\n",
       "4725    False\n",
       "7481    False\n",
       "7641    False\n",
       "7642    False\n",
       "7643    False\n",
       "7644    False\n",
       "8416    False\n",
       "8417    False\n",
       "8418    False\n",
       "8419    False\n",
       "8420    False\n",
       "9170    False\n",
       "9171    False\n",
       "9172    False\n",
       "9173    False\n",
       "9702    False\n",
       "9703    False\n",
       "9704    False\n",
       "dtype: bool"
      ]
     },
     "execution_count": 137,
     "metadata": {},
     "output_type": "execute_result"
    }
   ],
   "source": [
    "df1[df1.customer_name == 'Laurel Beltran' ].duplicated()"
   ]
  },
  {
   "cell_type": "code",
   "execution_count": 138,
   "metadata": {},
   "outputs": [],
   "source": [
    "df1 = df1.drop_duplicates()"
   ]
  },
  {
   "cell_type": "markdown",
   "metadata": {},
   "source": [
    "### Adding delivery time column"
   ]
  },
  {
   "cell_type": "code",
   "execution_count": 139,
   "metadata": {},
   "outputs": [],
   "source": [
    "df1['delivery_time_in_days'] =(pd.to_datetime(df1['ship_date']) - pd.to_datetime(df1['order_date'])).dt.days"
   ]
  },
  {
   "cell_type": "markdown",
   "metadata": {},
   "source": [
    "### Reordering Columns"
   ]
  },
  {
   "cell_type": "code",
   "execution_count": 140,
   "metadata": {},
   "outputs": [],
   "source": [
    "df1 = df1[ ['customer_name' , 'customer_segment' , 'region', 'state', 'city', 'product_name', 'category', 'sub_category', 'order_date', 'order_month', 'order_year' , 'ship_date', 'ship_month' , 'ship_year' , 'delivery_time_in_days' , 'ship_mode' , 'sales' , 'quantity' , 'discount' , 'discount_amount' , 'cost' , 'profit'] ]"
   ]
  },
  {
   "cell_type": "code",
   "execution_count": 141,
   "metadata": {},
   "outputs": [
    {
     "data": {
      "text/plain": [
       "Index(['customer_name', 'customer_segment', 'region', 'state', 'city',\n",
       "       'product_name', 'category', 'sub_category', 'order_date', 'order_month',\n",
       "       'order_year', 'ship_date', 'ship_month', 'ship_year',\n",
       "       'delivery_time_in_days', 'ship_mode', 'sales', 'quantity', 'discount',\n",
       "       'discount_amount', 'cost', 'profit'],\n",
       "      dtype='object')"
      ]
     },
     "execution_count": 141,
     "metadata": {},
     "output_type": "execute_result"
    }
   ],
   "source": [
    "df1.columns"
   ]
  },
  {
   "cell_type": "code",
   "execution_count": 142,
   "metadata": {},
   "outputs": [
    {
     "data": {
      "text/html": [
       "<div>\n",
       "<style scoped>\n",
       "    .dataframe tbody tr th:only-of-type {\n",
       "        vertical-align: middle;\n",
       "    }\n",
       "\n",
       "    .dataframe tbody tr th {\n",
       "        vertical-align: top;\n",
       "    }\n",
       "\n",
       "    .dataframe thead th {\n",
       "        text-align: right;\n",
       "    }\n",
       "</style>\n",
       "<table border=\"1\" class=\"dataframe\">\n",
       "  <thead>\n",
       "    <tr style=\"text-align: right;\">\n",
       "      <th></th>\n",
       "      <th>customer_name</th>\n",
       "      <th>customer_segment</th>\n",
       "      <th>region</th>\n",
       "      <th>state</th>\n",
       "      <th>city</th>\n",
       "      <th>product_name</th>\n",
       "      <th>category</th>\n",
       "      <th>sub_category</th>\n",
       "      <th>order_date</th>\n",
       "      <th>order_month</th>\n",
       "      <th>...</th>\n",
       "      <th>ship_month</th>\n",
       "      <th>ship_year</th>\n",
       "      <th>delivery_time_in_days</th>\n",
       "      <th>ship_mode</th>\n",
       "      <th>sales</th>\n",
       "      <th>quantity</th>\n",
       "      <th>discount</th>\n",
       "      <th>discount_amount</th>\n",
       "      <th>cost</th>\n",
       "      <th>profit</th>\n",
       "    </tr>\n",
       "  </thead>\n",
       "  <tbody>\n",
       "    <tr>\n",
       "      <th>0</th>\n",
       "      <td>Claire Gute</td>\n",
       "      <td>Consumer</td>\n",
       "      <td>South</td>\n",
       "      <td>Kentucky</td>\n",
       "      <td>Henderson</td>\n",
       "      <td>Bush Somerset Collection Bookcase</td>\n",
       "      <td>Furniture</td>\n",
       "      <td>Bookcases</td>\n",
       "      <td>2013-11-09</td>\n",
       "      <td>11</td>\n",
       "      <td>...</td>\n",
       "      <td>11</td>\n",
       "      <td>2013</td>\n",
       "      <td>3</td>\n",
       "      <td>Second Class</td>\n",
       "      <td>261.9600</td>\n",
       "      <td>2</td>\n",
       "      <td>0.00</td>\n",
       "      <td>0.00</td>\n",
       "      <td>220.05</td>\n",
       "      <td>41.9136</td>\n",
       "    </tr>\n",
       "    <tr>\n",
       "      <th>1</th>\n",
       "      <td>Claire Gute</td>\n",
       "      <td>Consumer</td>\n",
       "      <td>South</td>\n",
       "      <td>Kentucky</td>\n",
       "      <td>Henderson</td>\n",
       "      <td>Hon Deluxe Fabric Upholstered Stacking Chairs,...</td>\n",
       "      <td>Furniture</td>\n",
       "      <td>Chairs</td>\n",
       "      <td>2013-11-09</td>\n",
       "      <td>11</td>\n",
       "      <td>...</td>\n",
       "      <td>11</td>\n",
       "      <td>2013</td>\n",
       "      <td>3</td>\n",
       "      <td>Second Class</td>\n",
       "      <td>731.9400</td>\n",
       "      <td>3</td>\n",
       "      <td>0.00</td>\n",
       "      <td>0.00</td>\n",
       "      <td>512.36</td>\n",
       "      <td>219.5820</td>\n",
       "    </tr>\n",
       "    <tr>\n",
       "      <th>2</th>\n",
       "      <td>Darrin Van Huff</td>\n",
       "      <td>Corporate</td>\n",
       "      <td>West</td>\n",
       "      <td>California</td>\n",
       "      <td>Los Angeles</td>\n",
       "      <td>Self-Adhesive Address Labels for Typewriters b...</td>\n",
       "      <td>Office Supplies</td>\n",
       "      <td>Labels</td>\n",
       "      <td>2013-06-13</td>\n",
       "      <td>6</td>\n",
       "      <td>...</td>\n",
       "      <td>6</td>\n",
       "      <td>2013</td>\n",
       "      <td>4</td>\n",
       "      <td>Second Class</td>\n",
       "      <td>14.6200</td>\n",
       "      <td>2</td>\n",
       "      <td>0.00</td>\n",
       "      <td>0.00</td>\n",
       "      <td>7.75</td>\n",
       "      <td>6.8714</td>\n",
       "    </tr>\n",
       "    <tr>\n",
       "      <th>3</th>\n",
       "      <td>Sean O'Donnell</td>\n",
       "      <td>Consumer</td>\n",
       "      <td>South</td>\n",
       "      <td>Florida</td>\n",
       "      <td>Fort Lauderdale</td>\n",
       "      <td>Bretford CR4500 Series Slim Rectangular Table</td>\n",
       "      <td>Furniture</td>\n",
       "      <td>Tables</td>\n",
       "      <td>2012-10-11</td>\n",
       "      <td>10</td>\n",
       "      <td>...</td>\n",
       "      <td>10</td>\n",
       "      <td>2012</td>\n",
       "      <td>7</td>\n",
       "      <td>Standard Class</td>\n",
       "      <td>957.5775</td>\n",
       "      <td>5</td>\n",
       "      <td>0.45</td>\n",
       "      <td>430.91</td>\n",
       "      <td>1340.61</td>\n",
       "      <td>-383.0310</td>\n",
       "    </tr>\n",
       "    <tr>\n",
       "      <th>4</th>\n",
       "      <td>Sean O'Donnell</td>\n",
       "      <td>Consumer</td>\n",
       "      <td>South</td>\n",
       "      <td>Florida</td>\n",
       "      <td>Fort Lauderdale</td>\n",
       "      <td>Eldon Fold 'N Roll Cart System</td>\n",
       "      <td>Office Supplies</td>\n",
       "      <td>Storage</td>\n",
       "      <td>2012-10-11</td>\n",
       "      <td>10</td>\n",
       "      <td>...</td>\n",
       "      <td>10</td>\n",
       "      <td>2012</td>\n",
       "      <td>7</td>\n",
       "      <td>Standard Class</td>\n",
       "      <td>22.3680</td>\n",
       "      <td>2</td>\n",
       "      <td>0.20</td>\n",
       "      <td>4.47</td>\n",
       "      <td>19.85</td>\n",
       "      <td>2.5164</td>\n",
       "    </tr>\n",
       "  </tbody>\n",
       "</table>\n",
       "<p>5 rows × 22 columns</p>\n",
       "</div>"
      ],
      "text/plain": [
       "     customer_name customer_segment region       state             city  \\\n",
       "0      Claire Gute         Consumer  South    Kentucky        Henderson   \n",
       "1      Claire Gute         Consumer  South    Kentucky        Henderson   \n",
       "2  Darrin Van Huff        Corporate   West  California      Los Angeles   \n",
       "3   Sean O'Donnell         Consumer  South     Florida  Fort Lauderdale   \n",
       "4   Sean O'Donnell         Consumer  South     Florida  Fort Lauderdale   \n",
       "\n",
       "                                        product_name         category  \\\n",
       "0                  Bush Somerset Collection Bookcase        Furniture   \n",
       "1  Hon Deluxe Fabric Upholstered Stacking Chairs,...        Furniture   \n",
       "2  Self-Adhesive Address Labels for Typewriters b...  Office Supplies   \n",
       "3      Bretford CR4500 Series Slim Rectangular Table        Furniture   \n",
       "4                     Eldon Fold 'N Roll Cart System  Office Supplies   \n",
       "\n",
       "  sub_category order_date  order_month  ...  ship_month ship_year  \\\n",
       "0    Bookcases 2013-11-09           11  ...          11      2013   \n",
       "1       Chairs 2013-11-09           11  ...          11      2013   \n",
       "2       Labels 2013-06-13            6  ...           6      2013   \n",
       "3       Tables 2012-10-11           10  ...          10      2012   \n",
       "4      Storage 2012-10-11           10  ...          10      2012   \n",
       "\n",
       "   delivery_time_in_days       ship_mode     sales quantity  discount  \\\n",
       "0                      3    Second Class  261.9600        2      0.00   \n",
       "1                      3    Second Class  731.9400        3      0.00   \n",
       "2                      4    Second Class   14.6200        2      0.00   \n",
       "3                      7  Standard Class  957.5775        5      0.45   \n",
       "4                      7  Standard Class   22.3680        2      0.20   \n",
       "\n",
       "   discount_amount     cost    profit  \n",
       "0             0.00   220.05   41.9136  \n",
       "1             0.00   512.36  219.5820  \n",
       "2             0.00     7.75    6.8714  \n",
       "3           430.91  1340.61 -383.0310  \n",
       "4             4.47    19.85    2.5164  \n",
       "\n",
       "[5 rows x 22 columns]"
      ]
     },
     "execution_count": 142,
     "metadata": {},
     "output_type": "execute_result"
    }
   ],
   "source": [
    "df1.head()"
   ]
  },
  {
   "cell_type": "markdown",
   "metadata": {},
   "source": [
    "### Convert Data Frame to new CSV file"
   ]
  },
  {
   "cell_type": "code",
   "execution_count": 143,
   "metadata": {},
   "outputs": [],
   "source": [
    "df1.to_csv('../data/clean_super_store_data.csv' , index= False)"
   ]
  },
  {
   "cell_type": "code",
   "execution_count": 144,
   "metadata": {},
   "outputs": [
    {
     "name": "stdout",
     "output_type": "stream",
     "text": [
      "<class 'pandas.core.frame.DataFrame'>\n",
      "Index: 9993 entries, 0 to 9993\n",
      "Data columns (total 22 columns):\n",
      " #   Column                 Non-Null Count  Dtype         \n",
      "---  ------                 --------------  -----         \n",
      " 0   customer_name          9993 non-null   object        \n",
      " 1   customer_segment       9993 non-null   object        \n",
      " 2   region                 9993 non-null   object        \n",
      " 3   state                  9993 non-null   object        \n",
      " 4   city                   9993 non-null   object        \n",
      " 5   product_name           9993 non-null   object        \n",
      " 6   category               9993 non-null   object        \n",
      " 7   sub_category           9993 non-null   object        \n",
      " 8   order_date             9993 non-null   datetime64[ns]\n",
      " 9   order_month            9993 non-null   int64         \n",
      " 10  order_year             9993 non-null   int64         \n",
      " 11  ship_date              9993 non-null   datetime64[ns]\n",
      " 12  ship_month             9993 non-null   int64         \n",
      " 13  ship_year              9993 non-null   int64         \n",
      " 14  delivery_time_in_days  9993 non-null   int64         \n",
      " 15  ship_mode              9993 non-null   object        \n",
      " 16  sales                  9993 non-null   float64       \n",
      " 17  quantity               9993 non-null   int64         \n",
      " 18  discount               9993 non-null   float64       \n",
      " 19  discount_amount        9993 non-null   float64       \n",
      " 20  cost                   9993 non-null   float64       \n",
      " 21  profit                 9993 non-null   float64       \n",
      "dtypes: datetime64[ns](2), float64(5), int64(6), object(9)\n",
      "memory usage: 1.8+ MB\n"
     ]
    }
   ],
   "source": [
    "df1.info()"
   ]
  },
  {
   "cell_type": "code",
   "execution_count": null,
   "metadata": {},
   "outputs": [],
   "source": []
  }
 ],
 "metadata": {
  "kernelspec": {
   "display_name": "Python 3",
   "language": "python",
   "name": "python3"
  },
  "language_info": {
   "codemirror_mode": {
    "name": "ipython",
    "version": 3
   },
   "file_extension": ".py",
   "mimetype": "text/x-python",
   "name": "python",
   "nbconvert_exporter": "python",
   "pygments_lexer": "ipython3",
   "version": "3.12.3"
  }
 },
 "nbformat": 4,
 "nbformat_minor": 2
}
